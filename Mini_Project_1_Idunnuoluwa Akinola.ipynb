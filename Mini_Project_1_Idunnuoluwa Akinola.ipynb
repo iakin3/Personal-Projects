{
 "cells": [
  {
   "attachments": {},
   "cell_type": "markdown",
   "metadata": {},
   "source": [
    "# STAT207 Mini-Project #1 - Factors that affect Fertility in Men \n",
    "\n",
    "\n",
    "Idunnuoluwa Akinola"
   ]
  },
  {
   "attachments": {},
   "cell_type": "markdown",
   "metadata": {},
   "source": [
    "## 1. Introduction"
   ]
  },
  {
   "attachments": {},
   "cell_type": "markdown",
   "metadata": {},
   "source": [
    "Reproduction is  essential for the continuance of humanity. However research has shown that over the decades sperm count in men seems to have decreased. There is no specific cause and effect that can precisely tell us the reason for this decrease in sperm count, but there are certain factors apart from genentics that could lead to this decrease in sperm count.\n",
    "\n",
    "The goal of this research is to explore certain factors to see if their relationship with decreasing sperm count in sizeable enough to make some conclusions\n",
    "\n",
    "why is it important to explore the relationship between these factors and a decrease in male sperm count over the decades?\n",
    "A good amount of people in society report wanting to have their own offspring in the future. It is very important to know what enviromental or social factors could affect this. Futhermore government official would want to know if there are factors in society that could potentially influence growth rate.\n",
    "\n",
    "The research question we seek to answer is if sperm count in men is affected by the relationship between a man age and if he has had an accident or any form of trauma in the past.\n",
    "In recent years there has been an increase in trauma for men between the ages of 20-40 years. Most men in society have been faced with some form of accident or trauma that has been Ignored. This research could bring to new light  to a pontential issue for the continuance of humanity as a whole.Depending on the results from the research, government agencies and individuals could bring more awareness to male trauma and accidents and how to decrease the occurence of these events in society"
   ]
  },
  {
   "attachments": {},
   "cell_type": "markdown",
   "metadata": {},
   "source": []
  },
  {
   "attachments": {},
   "cell_type": "markdown",
   "metadata": {},
   "source": [
    "## 2. Dataset Discussion"
   ]
  },
  {
   "attachments": {},
   "cell_type": "markdown",
   "metadata": {},
   "source": [
    "We discovered a dataset from the Kaggle website.The dataset is  made from an experiment comprised of 100 male volunteers who provide semen to WHO in 2010, futhermore WHO collected some data about the volunteers socio-demographic status, environmental factors, health status and life habits.The dataset consist of 100 rows and 10 column. The variables Include season when observation occured, age of volunteer, If volunteer has had a childish disease, If volunteer was involved in Accident or serious trauma, If volunteer has had surgery in the past, If volunteer has had high fevers in the past year, alcohol consumption frequency,smoking habits, number of hours spent sitting down per day and If sperm count was altered or normal. The dataset failed to provide observation on the hormonal balance of the volunteer, obesity level , emotional issues and any infections the volunteer may have. In this analysis we ae going to explore the age of the volunteer, if the volunteer has had any accident or serious trauma and whether or not their sperm was altered.Provide below is the link to this data set which was downloaded on Wednesday the 20th of september 2023.https://www.kaggle.com/datasets/muhamedyoussry/fertility-data-set?datasetId=682005"
   ]
  },
  {
   "cell_type": "code",
   "execution_count": 1,
   "metadata": {},
   "outputs": [],
   "source": [
    "#Run this\n",
    "import pandas as pd                    # imports pandas and calls the imported version 'pd'\n",
    "import matplotlib.pyplot as plt        # imports the package and calls it 'plt'\n",
    "import seaborn as sns                  # imports the seaborn package with the imported name 'sns'\n",
    "sns.set()  "
   ]
  },
  {
   "cell_type": "code",
   "execution_count": 4,
   "metadata": {},
   "outputs": [
    {
     "data": {
      "text/html": [
       "<div>\n",
       "<style scoped>\n",
       "    .dataframe tbody tr th:only-of-type {\n",
       "        vertical-align: middle;\n",
       "    }\n",
       "\n",
       "    .dataframe tbody tr th {\n",
       "        vertical-align: top;\n",
       "    }\n",
       "\n",
       "    .dataframe thead th {\n",
       "        text-align: right;\n",
       "    }\n",
       "</style>\n",
       "<table border=\"1\" class=\"dataframe\">\n",
       "  <thead>\n",
       "    <tr style=\"text-align: right;\">\n",
       "      <th></th>\n",
       "      <th>Season</th>\n",
       "      <th>Age</th>\n",
       "      <th>Childish diseases</th>\n",
       "      <th>Accident or serious trauma</th>\n",
       "      <th>Surgical intervention</th>\n",
       "      <th>High fevers in the last year</th>\n",
       "      <th>Frequency of alcohol consumption</th>\n",
       "      <th>Smoking habit</th>\n",
       "      <th>Number of hours spent sitting per day</th>\n",
       "      <th>Diagnosis</th>\n",
       "    </tr>\n",
       "  </thead>\n",
       "  <tbody>\n",
       "    <tr>\n",
       "      <th>0</th>\n",
       "      <td>spring</td>\n",
       "      <td>30</td>\n",
       "      <td>no</td>\n",
       "      <td>yes</td>\n",
       "      <td>yes</td>\n",
       "      <td>more than 3 months ago</td>\n",
       "      <td>once a week</td>\n",
       "      <td>occasional</td>\n",
       "      <td>16</td>\n",
       "      <td>Normal</td>\n",
       "    </tr>\n",
       "    <tr>\n",
       "      <th>1</th>\n",
       "      <td>spring</td>\n",
       "      <td>35</td>\n",
       "      <td>yes</td>\n",
       "      <td>no</td>\n",
       "      <td>yes</td>\n",
       "      <td>more than 3 months ago</td>\n",
       "      <td>once a week</td>\n",
       "      <td>daily</td>\n",
       "      <td>6</td>\n",
       "      <td>Altered</td>\n",
       "    </tr>\n",
       "    <tr>\n",
       "      <th>2</th>\n",
       "      <td>spring</td>\n",
       "      <td>27</td>\n",
       "      <td>yes</td>\n",
       "      <td>no</td>\n",
       "      <td>no</td>\n",
       "      <td>more than 3 months ago</td>\n",
       "      <td>hardly ever or never</td>\n",
       "      <td>never</td>\n",
       "      <td>9</td>\n",
       "      <td>Normal</td>\n",
       "    </tr>\n",
       "    <tr>\n",
       "      <th>3</th>\n",
       "      <td>spring</td>\n",
       "      <td>32</td>\n",
       "      <td>no</td>\n",
       "      <td>yes</td>\n",
       "      <td>yes</td>\n",
       "      <td>more than 3 months ago</td>\n",
       "      <td>hardly ever or never</td>\n",
       "      <td>never</td>\n",
       "      <td>7</td>\n",
       "      <td>Normal</td>\n",
       "    </tr>\n",
       "    <tr>\n",
       "      <th>4</th>\n",
       "      <td>spring</td>\n",
       "      <td>30</td>\n",
       "      <td>yes</td>\n",
       "      <td>yes</td>\n",
       "      <td>no</td>\n",
       "      <td>more than 3 months ago</td>\n",
       "      <td>once a week</td>\n",
       "      <td>never</td>\n",
       "      <td>9</td>\n",
       "      <td>Altered</td>\n",
       "    </tr>\n",
       "  </tbody>\n",
       "</table>\n",
       "</div>"
      ],
      "text/plain": [
       "   Season  Age Childish diseases Accident or serious trauma  \\\n",
       "0  spring   30                no                        yes   \n",
       "1  spring   35               yes                         no   \n",
       "2  spring   27               yes                         no   \n",
       "3  spring   32                no                        yes   \n",
       "4  spring   30               yes                        yes   \n",
       "\n",
       "  Surgical intervention High fevers in the last year  \\\n",
       "0                   yes       more than 3 months ago   \n",
       "1                   yes       more than 3 months ago   \n",
       "2                    no       more than 3 months ago   \n",
       "3                   yes       more than 3 months ago   \n",
       "4                    no       more than 3 months ago   \n",
       "\n",
       "  Frequency of alcohol consumption Smoking habit  \\\n",
       "0                      once a week    occasional   \n",
       "1                      once a week         daily   \n",
       "2             hardly ever or never         never   \n",
       "3             hardly ever or never         never   \n",
       "4                      once a week         never   \n",
       "\n",
       "   Number of hours spent sitting per day Diagnosis  \n",
       "0                                     16    Normal  \n",
       "1                                      6   Altered  \n",
       "2                                      9    Normal  \n",
       "3                                      7    Normal  \n",
       "4                                      9   Altered  "
      ]
     },
     "execution_count": 4,
     "metadata": {},
     "output_type": "execute_result"
    }
   ],
   "source": [
    "df = pd.read_csv(\"fertility.csv\")\n",
    "df.head()"
   ]
  },
  {
   "cell_type": "code",
   "execution_count": 6,
   "metadata": {},
   "outputs": [
    {
     "data": {
      "text/plain": [
       "100"
      ]
     },
     "execution_count": 6,
     "metadata": {},
     "output_type": "execute_result"
    }
   ],
   "source": [
    "original_row_num=df.shape[0]\n",
    "original_row_num"
   ]
  },
  {
   "attachments": {},
   "cell_type": "markdown",
   "metadata": {},
   "source": [
    "I want to check if there are any implicit  NA values in the dataset that could make the results different or biased and there is none in this dataset"
   ]
  },
  {
   "cell_type": "code",
   "execution_count": 8,
   "metadata": {},
   "outputs": [
    {
     "data": {
      "text/plain": [
       "Season                                   0\n",
       "Age                                      0\n",
       "Childish diseases                        0\n",
       "Accident or serious trauma               0\n",
       "Surgical intervention                    0\n",
       "High fevers in the last year             0\n",
       "Frequency of alcohol consumption         0\n",
       "Smoking habit                            0\n",
       "Number of hours spent sitting per day    0\n",
       "Diagnosis                                0\n",
       "dtype: int64"
      ]
     },
     "execution_count": 8,
     "metadata": {},
     "output_type": "execute_result"
    }
   ],
   "source": [
    "df.isna().sum()"
   ]
  },
  {
   "attachments": {},
   "cell_type": "markdown",
   "metadata": {},
   "source": [
    "## 3. Dataset Cleaning"
   ]
  },
  {
   "attachments": {},
   "cell_type": "markdown",
   "metadata": {},
   "source": [
    "Implicit or EXplicit Data Identification and Cleaning\n",
    "\n",
    "we would like to create a linear regression model to  visualize  how the relationship between the volunteer's age and if he has had an accident or serious trauma could have an impact on his sperm count. To do this first we are going to make a new dataset with just these variables.Futhermore we will check for implicit NA values which we should not have."
   ]
  },
  {
   "cell_type": "code",
   "execution_count": 10,
   "metadata": {},
   "outputs": [
    {
     "data": {
      "text/html": [
       "<div>\n",
       "<style scoped>\n",
       "    .dataframe tbody tr th:only-of-type {\n",
       "        vertical-align: middle;\n",
       "    }\n",
       "\n",
       "    .dataframe tbody tr th {\n",
       "        vertical-align: top;\n",
       "    }\n",
       "\n",
       "    .dataframe thead th {\n",
       "        text-align: right;\n",
       "    }\n",
       "</style>\n",
       "<table border=\"1\" class=\"dataframe\">\n",
       "  <thead>\n",
       "    <tr style=\"text-align: right;\">\n",
       "      <th></th>\n",
       "      <th>Age</th>\n",
       "      <th>Accident or serious trauma</th>\n",
       "      <th>Diagnosis</th>\n",
       "    </tr>\n",
       "  </thead>\n",
       "  <tbody>\n",
       "    <tr>\n",
       "      <th>0</th>\n",
       "      <td>30</td>\n",
       "      <td>yes</td>\n",
       "      <td>Normal</td>\n",
       "    </tr>\n",
       "    <tr>\n",
       "      <th>1</th>\n",
       "      <td>35</td>\n",
       "      <td>no</td>\n",
       "      <td>Altered</td>\n",
       "    </tr>\n",
       "    <tr>\n",
       "      <th>2</th>\n",
       "      <td>27</td>\n",
       "      <td>no</td>\n",
       "      <td>Normal</td>\n",
       "    </tr>\n",
       "    <tr>\n",
       "      <th>3</th>\n",
       "      <td>32</td>\n",
       "      <td>yes</td>\n",
       "      <td>Normal</td>\n",
       "    </tr>\n",
       "    <tr>\n",
       "      <th>4</th>\n",
       "      <td>30</td>\n",
       "      <td>yes</td>\n",
       "      <td>Altered</td>\n",
       "    </tr>\n",
       "    <tr>\n",
       "      <th>...</th>\n",
       "      <td>...</td>\n",
       "      <td>...</td>\n",
       "      <td>...</td>\n",
       "    </tr>\n",
       "    <tr>\n",
       "      <th>95</th>\n",
       "      <td>30</td>\n",
       "      <td>no</td>\n",
       "      <td>Normal</td>\n",
       "    </tr>\n",
       "    <tr>\n",
       "      <th>96</th>\n",
       "      <td>29</td>\n",
       "      <td>no</td>\n",
       "      <td>Normal</td>\n",
       "    </tr>\n",
       "    <tr>\n",
       "      <th>97</th>\n",
       "      <td>30</td>\n",
       "      <td>yes</td>\n",
       "      <td>Normal</td>\n",
       "    </tr>\n",
       "    <tr>\n",
       "      <th>98</th>\n",
       "      <td>30</td>\n",
       "      <td>no</td>\n",
       "      <td>Normal</td>\n",
       "    </tr>\n",
       "    <tr>\n",
       "      <th>99</th>\n",
       "      <td>30</td>\n",
       "      <td>yes</td>\n",
       "      <td>Normal</td>\n",
       "    </tr>\n",
       "  </tbody>\n",
       "</table>\n",
       "<p>100 rows × 3 columns</p>\n",
       "</div>"
      ],
      "text/plain": [
       "    Age Accident or serious trauma Diagnosis\n",
       "0    30                        yes    Normal\n",
       "1    35                         no   Altered\n",
       "2    27                         no    Normal\n",
       "3    32                        yes    Normal\n",
       "4    30                        yes   Altered\n",
       "..  ...                        ...       ...\n",
       "95   30                         no    Normal\n",
       "96   29                         no    Normal\n",
       "97   30                        yes    Normal\n",
       "98   30                         no    Normal\n",
       "99   30                        yes    Normal\n",
       "\n",
       "[100 rows x 3 columns]"
      ]
     },
     "execution_count": 10,
     "metadata": {},
     "output_type": "execute_result"
    }
   ],
   "source": [
    "df2=df[[\"Age\",\"Accident or serious trauma\",\"Diagnosis\"]]\n",
    "df2"
   ]
  },
  {
   "cell_type": "code",
   "execution_count": 11,
   "metadata": {},
   "outputs": [
    {
     "data": {
      "text/plain": [
       "Age                           0\n",
       "Accident or serious trauma    0\n",
       "Diagnosis                     0\n",
       "dtype: int64"
      ]
     },
     "execution_count": 11,
     "metadata": {},
     "output_type": "execute_result"
    }
   ],
   "source": [
    "df2.isna().sum()"
   ]
  },
  {
   "attachments": {},
   "cell_type": "markdown",
   "metadata": {},
   "source": [
    "Single Numerical Variable Outlier Identification and Cleaning\n",
    "\n",
    "After checking for any NA values we are then going to check if we have any outlier and then we are going to clean them, like previousluy stated we do this to prevent the correlation of our analysis from being skewed or biased, and we want our data to still represent the original data given.Right now we are only going to do this for the  single numerical  variable we have which is the age of the male volunteers. to proceed we are going to create a boxplot to identify any outliers and decide whether or not to drop the outlier depending on their impact on our result "
   ]
  },
  {
   "cell_type": "code",
   "execution_count": 14,
   "metadata": {},
   "outputs": [
    {
     "data": {
      "image/png": "[encoded data removed]",
      "text/plain": [
       "<Figure size 640x480 with 1 Axes>"
      ]
     },
     "metadata": {},
     "output_type": "display_data"
    }
   ],
   "source": [
    "num_cols=[\"Age\"]\n",
    "for col in num_cols:\n",
    "    sns.boxplot(df[col])\n",
    "    plt.title(col)\n",
    "    plt.show()"
   ]
  },
  {
   "attachments": {},
   "cell_type": "markdown",
   "metadata": {},
   "source": [
    "From the visualization above we cannot see any outliers that are distinct from the rest of the rest of the observation so we do not need to drop any outliers."
   ]
  },
  {
   "attachments": {},
   "cell_type": "markdown",
   "metadata": {},
   "source": [
    "## 4. <u>Research Question</u>: How does the Relationship between `x` and `y` Change based on Different Values of `z` in the Dataset?"
   ]
  },
  {
   "attachments": {},
   "cell_type": "markdown",
   "metadata": {},
   "source": [
    "The research question we seek to answer is whether there is an interaction between the age of the volunteer and how whether or not the volunteer has been involved in an accident or serious trauma and we want to know if this interaction has an impact on the sperm count of the volunteer. Because we are comparing one numerical with a categorical variable, and we are trying to see how that relationship impacts a categorical variable we are to make side by side boxplots with Age on the y axis and Accident or serious trauma on the x axis."
   ]
  },
  {
   "cell_type": "code",
   "execution_count": 28,
   "metadata": {},
   "outputs": [
    {
     "data": {
      "text/plain": [
       "<function matplotlib.pyplot.show(close=None, block=None)>"
      ]
     },
     "execution_count": 28,
     "metadata": {},
     "output_type": "execute_result"
    },
    {
     "data": {
      "image/png": "[encoded data removed]",
      "text/plain": [
       "<Figure size 640x480 with 1 Axes>"
      ]
     },
     "metadata": {},
     "output_type": "display_data"
    }
   ],
   "source": [
    "sns.boxplot(x=\"Accident or serious trauma\",y=\"Age\",hue=\"Diagnosis\",data=df2)\n",
    "plt.legend(loc=\"upper left\")\n",
    "plt.title(\"\")\n",
    "plt.show\n"
   ]
  },
  {
   "attachments": {},
   "cell_type": "markdown",
   "metadata": {},
   "source": [
    "To analyze the data first we are going to compare the boxplots with summary statistics. we will start with the volunteers who said they have had an accident or serious trauma, we are going to compare volunteers with normal and altered diagnosis. we are going to be compare the measure of center,measure of spread,shape and outliers. For the measure of center, we can see that the median for individual who had accidents or serious trauma with normal sperm count is higher than those with altered sperm count. For the center of spread the range for normal diagnosis is higher than that of altered diagnosis this tells us more people who have had an accident or serious trauma have a normal diagnosis. the shape of the normal diagnosis is negatively  or left skwed and for the altered diagnosis the shape is unimodal. For both normal and altered diagnosis they have no outliers.\n",
    "\n",
    "Now we are going to compare the volunteers with no accident or trauma and we are going to compare the normal and altered diagnosis. For the center comparision the median for altered is higher than that of normal. The altered diagnosis is more skewed than the normal diagnosis. The normal diagnosis has more outliers than the altered diagnosis. the spread of the normal diagnosis is bigger than that of altered."
   ]
  },
  {
   "attachments": {},
   "cell_type": "markdown",
   "metadata": {},
   "source": [
    "Based on the visualization we can see that most most of the men that had trauma or a serious accident still had a normal sperm count and we can also see that men who no trauma still had altered sperm count. we can aslo see that younger men still had a lower sperm count. From the result we can definitely see that there is no true connection between trauma,accident,age and sperm count."
   ]
  },
  {
   "attachments": {},
   "cell_type": "markdown",
   "metadata": {},
   "source": []
  },
  {
   "attachments": {},
   "cell_type": "markdown",
   "metadata": {},
   "source": [
    "## 5. Conclusion"
   ]
  },
  {
   "attachments": {},
   "cell_type": "markdown",
   "metadata": {},
   "source": [
    "In Conclusion we can that there is no real realtionship between age, involvement in accident or serious trauma and sperm count. I think one think that could have made the results clearer is if there were more variables to compare, because I definitely think that there are more variables like genetics and nutrition that could affect this. one Idea that I have for future work is to compare sperm count between continents and explore other variables to see if there are more reasons why some continents have a higher growth rate."
   ]
  }
 ],
 "metadata": {
  "kernelspec": {
   "display_name": "Python 3 (ipykernel)",
   "language": "python",
   "name": "python3"
  },
  "language_info": {
   "codemirror_mode": {
    "name": "ipython",
    "version": 3
   },
   "file_extension": ".py",
   "mimetype": "text/x-python",
   "name": "python",
   "nbconvert_exporter": "python",
   "pygments_lexer": "ipython3",
   "version": "3.11.1"
  }
 },
 "nbformat": 4,
 "nbformat_minor": 4
}
